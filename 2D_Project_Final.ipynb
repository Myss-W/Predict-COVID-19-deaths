{
 "cells": [
  {
   "cell_type": "markdown",
   "metadata": {
    "deletable": false,
    "editable": false,
    "nbgrader": {
     "grade": false,
     "locked": true,
     "solution": false
    }
   },
   "source": [
    "# 2D Design Template"
   ]
  },
  {
   "cell_type": "markdown",
   "metadata": {
    "deletable": false,
    "editable": false,
    "nbgrader": {
     "grade": false,
     "locked": true,
     "solution": false
    }
   },
   "source": [
    "# Overview\n",
    "\n",
    "The purpose of this project is for you to apply what you have learnt in this course. This includes working with data and visualizing it, create model of linear regression or logistic regression, as well as using metrics to measure the accuracy of your model. \n",
    "\n",
    "Please find the project handout description in the following link:\n",
    "- [DDW-MU-Humanities Handout](https://sutdapac-my.sharepoint.com/:b:/g/personal/franklin_anariba_sutd_edu_sg/EaonbI8dXvFHr5I75zUAhGEBXflfC4aZEqtcxPYHS5Jciw?e=s6UTbq)\n",
    "- [DDW-MU-SocialStudies Handout](https://sutdapac-my.sharepoint.com/:b:/g/personal/franklin_anariba_sutd_edu_sg/ETaVN6doTnJElS0Egw34XYQB_VYCwijjNk_05Ft4RctYjg?e=X8iVbw)\n",
    "\n",
    "There are two parts.\n",
    "- Part 1 is related to predicting COVID-19 deaths\n",
    "- Part 2 is open ended and you can find the problem of your interest as long as it is related to COVID-19. The only requirements are the following:\n",
    "    - The problem can be modelled either using Linear Regression (or Multiple Linear Regression) or Logistic Regression. This means either you are working with continous numerical data or classification. You are not allowed to use Neural Networks or other Machine Learning models.\n",
    "    - You must use Python and Jupyter Notebook\n",
    "\n",
    "The following tasks are a general guide to help you do your project for Part 2:\n",
    "1. Find an interesting problem which you can solve either using Linear Regression or Classification\n",
    "1. Find a dataset to build your model. You can use [Kaggle](https://www.kaggle.com/datasets) to find your datasets.\n",
    "1. Use plots to visualize and understand your data.\n",
    "1. Create training and test data set.\n",
    "1. Build your model\n",
    "1. Use metrics to evaluate your model.\n",
    "1. Improve your model"
   ]
  },
  {
   "cell_type": "markdown",
   "metadata": {
    "deletable": false,
    "editable": false,
    "nbgrader": {
     "grade": false,
     "locked": true,
     "solution": false
    }
   },
   "source": [
    "## Deliverables\n",
    "\n",
    "You need to submit this Jupyter notebook together with the dataset into Vocareum. Use the template in this notebook to work on this project."
   ]
  },
  {
   "cell_type": "markdown",
   "metadata": {
    "deletable": false,
    "editable": false,
    "nbgrader": {
     "grade": false,
     "locked": true,
     "solution": false
    }
   },
   "source": [
    "## Rubrics\n",
    "\n",
    "The rubrics for the scoring can be found in [this link](https://sutdapac-my.sharepoint.com/:b:/g/personal/franklin_anariba_sutd_edu_sg/EdLkuzyCrrJBp5QfVGtdHn8Bj3_epWiQMqv2mwyEei_3JQ?e=fLB0QN)."
   ]
  },
  {
   "cell_type": "markdown",
   "metadata": {},
   "source": [
    "## Students Submission\n",
    "\n",
    "Student's Name:\n",
    "- Joyce Lim\n",
    "- Quek Shao Min Charissa\n",
    "- Lim Sheng Xiang\n",
    "- Wang Shiyu\n",
    "- Jyotit Kaushal\n",
    "\n",
    "Everyone have equal contributions to this project."
   ]
  },
  {
   "cell_type": "markdown",
   "metadata": {},
   "source": [
    "# Part 1"
   ]
  },
  {
   "cell_type": "markdown",
   "metadata": {},
   "source": [
    "**Dataset** <br>\n",
    "https://www.kaggle.com/gpreda/covid-world-vaccination-progress & https://www.kaggle.com/gauravduttakiit/covid-19 <br>\n",
    "These datasets were chosen as it has an extensive amount of data, where it provides data for almost a year. We then choose to combine the above 2 datasets by categorizing them according to their respective dates and countries to obtain a dataset that provides us with most of our desired variables.\n",
    "\n",
    "**Predictable Variables Chosen** <br>\n",
    "After in depth research of the variables and plotting each possible variable against the total number of deaths, these 4 variables were chosen as they often have a direct impact on fatalities from Covid-19 and seems to hold a relationship with the number of deaths when plotted.\n",
    "* Total Confirmed Cases: Fatalities from Covid-19 can only come from confirmed cases\n",
    "* Total Vaccinations per Hundred: It is proven that vaccination reduces Covid-19 fatality rate as shown in https://www.news-medical.net/amp/news/20211101/The-effect-of-mass-vaccination-on-COVID-19-mortality-in-Israel.aspx\n",
    "* GDP(USD): GDP measures the size and health of a country's economy, which in turn indicates whether the country have sufficient economical power to lower the fatalities due to Covid-19\n",
    "* Current Positive Cases: Future fatalities from Covid-19 can only come from current positive cases\n",
    "\n",
    "**Cleaning of data** <br>\n",
    "A total of 21 countries and 3150 data points were chosen to ensure that the size of the data set is big enough to obtain a higher accuracy for the model. The final dataset was obtained via combining the above 2 datasets from 2021/2/1 to 2021/6/30 to prevent the influence of other variables that were not chosen. The data points with incomplete data was also removed to prevents errors in the code. "
   ]
  },
  {
   "cell_type": "markdown",
   "metadata": {},
   "source": []
  },
  {
   "cell_type": "markdown",
   "metadata": {},
   "source": [
    "### Basic functions \n",
    "This cell below contains the basic functions that will be used to build our **Multiple Linear Regression Model**."
   ]
  },
  {
   "cell_type": "code",
   "execution_count": 1,
   "metadata": {},
   "outputs": [],
   "source": [
    "import numpy as np\n",
    "import pandas as pd\n",
    "import matplotlib.pyplot as plt\n",
    "import seaborn as sns\n",
    "import itertools\n",
    "import math"
   ]
  },
  {
   "cell_type": "code",
   "execution_count": 2,
   "metadata": {},
   "outputs": [],
   "source": [
    "# normalize the feature using z normalization\n",
    "def normalize_z(df):\n",
    "    dfout = df.copy()\n",
    "    dfout = (df - df.mean(axis = 0)) / df.std(axis = 0)\n",
    "    return dfout\n",
    "\n",
    "# get the columns for the features and the targets from the input argument data frame\n",
    "def get_features_targets(df, feature_names, target_names):\n",
    "    df_feature = pd.DataFrame(df[feature_names])\n",
    "    df_target = pd.DataFrame(df[target_names])\n",
    "    return df_feature, df_target\n",
    "\n",
    "# convert the data frame to a numpy array and change it into a column vector\n",
    "def prepare_feature(df_feature):\n",
    "    cols = len(df_feature.columns)\n",
    "    feature = df_feature.to_numpy().reshape(-1, cols)\n",
    "    X = np.concatenate((np.ones((feature.shape[0], 1)), feature), axis = 1)\n",
    "    return X\n",
    "\n",
    "# convert the data frame to a numpy array and change it into a column vector\n",
    "def prepare_target(df_target):\n",
    "    cols = len(df_target.columns)\n",
    "    target = df_target.to_numpy().reshape(-1, cols)\n",
    "    return target\n",
    "\n",
    "#standardize the feature using z normalization, change it to a Numpy array, and add a column of constant 1s\n",
    "def predict(df_feature, beta):\n",
    "    X = prepare_feature(normalize_z(df_feature))\n",
    "    return predict_norm(X, beta)\n",
    "\n",
    "# calculate the straight line equation after standardization and adding of column for constant 1\n",
    "def predict_norm(X, beta):\n",
    "    return np.matmul(X, beta)\n",
    "\n",
    "# compute the cost function of a linear regression model.\n",
    "def compute_cost(X, y, beta):\n",
    "    J = 0\n",
    "    m = X.shape[0]\n",
    "    error = np.matmul(X, beta) - y\n",
    "    error_eq = np.matmul(error.T, error)\n",
    "    J = (1 / (2 * m)) * error_eq\n",
    "    J = J[0][0]\n",
    "    return J\n",
    "\n",
    "# get the coefficients of the model\n",
    "def gradient_descent(X, y, beta, alpha, num_iters):\n",
    "    m = X.shape[0]\n",
    "    J_storage = np.zeros((num_iters, 1))\n",
    "    for n in range(num_iters):\n",
    "        deriv = np.matmul(X.T, (np.matmul(X, beta) - y))\n",
    "        beta = beta - alpha * (1/m) * deriv\n",
    "        J_storage[n] = compute_cost(X, y, beta)\n",
    "    return beta, J_storage\n",
    "\n",
    "# get different combinations of all features\n",
    "def permutation(s):\n",
    "    x = len(s)\n",
    "    masks = [1 << i for i in range(x)]\n",
    "    for i in range(1 << x):\n",
    "        yield [ss for mask, ss in zip(masks, s) if i & mask]"
   ]
  },
  {
   "cell_type": "markdown",
   "metadata": {},
   "source": [
    "### Class: MultipleLinearRegression\n",
    "Attributes:\n",
    "* **_name** : *Name of the model, a string data type*\n",
    "* **target** : *What we need to predict, a DataFrame type*\n",
    "* **features** : *Variables used to predict the target, a DataFrame type*\n",
    "* **_features_name** : *Name of features used, a list type*\n",
    "* **_beta** : *Coefficients of the model, an np.array type* \n",
    "\n",
    "Properties:\n",
    "* **beta.setter** : *If the input is np.array and its shape is (feature.shape[1]+1, 1), the input will be assigned to _beta attribute. This will return the _beta attribute. Otherwise, this property will not do anything.*\n",
    "* **beta** : *Calls predict property to compute beta and store it into the _beta attribute. This returns the _beta attribute.*\n",
    "* **name.setter** : *Ensure that only those of the data type str and a non empty string can be assigned to the _name attribute.*\n",
    "* **name** : *This returns the _name attribute*\n",
    "* **features_name** : *This returns the _features_name attribute. There is no setter property for _features_name attribute, so it will not be modified*\n",
    "* **predict** : *Compute coefficients of model, store it in the _beta attribute and returning the predicted target value*\n",
    "* **accuracy** : *Compute adjusted R square value which is used as the accuracy of the model*"
   ]
  },
  {
   "cell_type": "code",
   "execution_count": 3,
   "metadata": {},
   "outputs": [],
   "source": [
    "class MultipleLinearRegression:\n",
    "    iterations = 1500\n",
    "    alpha = 0.01\n",
    "    \n",
    "    #initialization\n",
    "    def __init__(self, name, features, target):\n",
    "        self._name = name\n",
    "        self.target = target\n",
    "        self.features = features\n",
    "        self._features_name = list(features.columns)\n",
    "        self._beta = np.zeros((features.shape[1]+1,1))\n",
    "    \n",
    "    #property getter\n",
    "    @property\n",
    "    def beta(self):\n",
    "        self.predict\n",
    "        return self._beta\n",
    "    \n",
    "    #property setter\n",
    "    @beta.setter\n",
    "    def beta(self, value):\n",
    "        if value.shape == (self.features.shape[1]+1,1):\n",
    "            self._beta = value\n",
    "    \n",
    "    #property getter\n",
    "    @property\n",
    "    def name(self):\n",
    "        return self._name\n",
    "        \n",
    "    #property setter\n",
    "    @name.setter\n",
    "    def name(self, value):\n",
    "        if isinstance(value, str) and name != '':\n",
    "            self._name = value\n",
    "        \n",
    "    #property getter\n",
    "    @property\n",
    "    def features_name(self):\n",
    "        return self._features_name\n",
    "    \n",
    "    @property\n",
    "    def predict(self):\n",
    "        df_features = normalize_z(self.features)\n",
    "        X = prepare_feature(df_features)\n",
    "        target = prepare_target(self.target)\n",
    "        \n",
    "        #compute the coeffecients of the model and stores it in beta attribute\n",
    "        beta = np.zeros((self.features.shape[1]+1,1))\n",
    "        self._beta, J_storage = gradient_descent(X, target, beta, self.alpha, self.iterations) \n",
    "        #compute predicted value\n",
    "        prediction = predict(self.features, self._beta)\n",
    "        return prediction\n",
    "    \n",
    "    @property\n",
    "    def accuracy(self):\n",
    "        target = prepare_target(self.target)\n",
    "        SSres = np.sum((target - self.predict)**2)\n",
    "        SStot = np.sum((target - np.mean(target))**2)\n",
    "        n = target.shape[0]\n",
    "        adjusted_Rsquare = 1 - (n-1)/(n-1-self.features.shape[1])*(SSres/SStot)\n",
    "        return adjusted_Rsquare\n",
    "    \n",
    "    #when printing this class, it returns name attribute\n",
    "    def __str__(self):\n",
    "        return self.name"
   ]
  },
  {
   "cell_type": "markdown",
   "metadata": {},
   "source": [
    "***\n",
    "\n",
    "As seen from the **MultiLinearRegression class** above, the adjusted R-squared value is chosen as our metric to determine the accuracy of our model as the adjusted R-squared value compares the explantory power of regression models that contain different numbers of predictors. This value will only increase if and only if the new term improves the model more than expected by chance. Similarly, it will decrease when a predictor improves the model by less than expected by chance. Thus, this will be a good metric to compare the accuracy of our model as it provides a more precise view of the correlation by also taking into account how many independent variables are added to our model.\n",
    "\n",
    "***"
   ]
  },
  {
   "cell_type": "markdown",
   "metadata": {},
   "source": [
    "### Building The Model\n",
    "1. Read the data file ('task 1.csv') and get different combinations of all features using the **permutation(s)** function. <br> *Note: in the csv file, our features are named 'Current', 'total_vaccination_per_hundred', 'Confirmed', 'GDP(USD)' while our target is named 'Deaths'.*\n",
    "2. For each combination of features, extract features and target from the data set. Create an instance of **MultipleLinearRegression class** and add it in a list.\n",
    "3. Sort the list based on accuracy (computed using adjusted R square value) of each model. The model with the highest accuracy is the best model among all."
   ]
  },
  {
   "cell_type": "code",
   "execution_count": 5,
   "metadata": {},
   "outputs": [
    {
     "name": "stdout",
     "output_type": "stream",
     "text": [
      "md_Cur 0.018806786009950227\n",
      "md_tot 0.04967372345784293\n",
      "md_GDP 0.0662124352483916\n",
      "md_Cur,tot 0.07604785451227491\n",
      "md_tot,GDP 0.09053584643770751\n",
      "md_Cur,GDP 0.10968212880413297\n",
      "md_Cur,tot,GDP 0.136751853047968\n",
      "md_Con 0.7234381246409158\n",
      "md_Cur,Con 0.7236112835140583\n",
      "md_Cur,Con,GDP 0.7241549112368599\n",
      "md_Con,GDP 0.7241849269014577\n",
      "md_tot,Con 0.909456376930259\n",
      "md_tot,Con,GDP 0.9181793010664776\n",
      "md_Cur,tot,Con 0.9327328771042828\n",
      "md_Cur,tot,Con,GDP 0.9353867889052694\n"
     ]
    }
   ],
   "source": [
    "df = pd.read_csv('task 1.csv') # read the data file\n",
    "features_name = ['Current','total_vaccinations_per_hundred','Confirmed', 'GDP(USD)']\n",
    "target_name = ['Deaths']\n",
    "features_combinations = list(permutation(features_name))[1:] # get different combinations of all features\n",
    "\n",
    "model_combinations = []\n",
    "for i in features_combinations: # use for loop to go through all combinations\n",
    "    df_features, df_target = get_features_targets(df, i, target_name) # extract features and target\n",
    "    name_lst = [j[:3] for j in i]\n",
    "    name = 'md_'+','.join(name_lst) # name the model with the first three letters of each features used\n",
    "    model = MultipleLinearRegression(name, df_features, df_target) # create an instance of MultipleLinearRegression class\n",
    "    model_combinations.append(model) # add the instance in a list\n",
    "    \n",
    "model_combinations = sorted(model_combinations, key = lambda x: x.accuracy) # sort the list based on accuracy of each element\n",
    "best_model = model_combinations[-1] # this model has the hightest accuracy, which means it is the best model\n",
    "for i in model_combinations:\n",
    "    print(i, i.accuracy)"
   ]
  },
  {
   "cell_type": "markdown",
   "metadata": {},
   "source": [
    "***\n",
    "\n",
    "As seen from the values obtained, the model with all 4 variables show the highest adjusted R-squared value, which indicates the highest correlation value and is thus the best model to predict the total number of deaths\n",
    "\n",
    "***\n",
    "\n",
    "This can also be cross checked using visualizations by plotting actual number of deaths against predicted number of deaths along with a $y=x$ line for each model. The closer the 2 curves are, the higher the accuracy of the model."
   ]
  },
  {
   "cell_type": "code",
   "execution_count": 6,
   "metadata": {},
   "outputs": [
    {
     "data": {
      "image/png": "[encoded data removed]",
      "text/plain": [
       "<Figure size 432x288 with 15 Axes>"
      ]
     },
     "metadata": {},
     "output_type": "display_data"
    }
   ],
   "source": [
    "a = math.ceil(math.sqrt(len(model_combinations))) # get the size of the plot\n",
    "b = 1\n",
    "for i in model_combinations:\n",
    "    plt.subplot(a,a,b) # create a subplot with a*a size. b is the index\n",
    "    plt.scatter(i.target, i.predict,s=20) # plot predicted deaths against real deaths\n",
    "    plt.scatter(i.target, i.target,s=20) # plot y = x\n",
    "    plt.xticks([]) # remove x axis\n",
    "    plt.yticks([]) # remove y axis\n",
    "    plt.xlabel('real deaths') # add x axis label\n",
    "    plt.ylabel('predicted deaths') # add y axis label\n",
    "    plt.title(i.name) # name each plot as the model's name\n",
    "    plt.suptitle('predicted deaths vs real deaths, y = x for different models',y=-0.1) # add a title for all plots\n",
    "    plt.subplots_adjust(left=0.2, top=2, right=2, bottom=0, wspace=0.6, hspace=0.7) # adjust the plots\n",
    "    b+=1"
   ]
  },
  {
   "cell_type": "markdown",
   "metadata": {},
   "source": [
    "***\n",
    "\n",
    "As seen from the visualizations above, the model with all 4 variables is the closest to the $y=x$ graph. This further supports the model with all 4 variables to be the most accurate model to predict the total number of deaths. <br>\n",
    "*Note: Some of these models looks similar to one another, Thus, we cannot rely on our naked eyes to judge what is the best model by only visualization and have to refer to the adjusted R-squared value as well.*\n",
    "\n",
    "***"
   ]
  },
  {
   "cell_type": "markdown",
   "metadata": {},
   "source": [
    "### Prediction Model\n",
    "As seen from the analysis above, the model with all 4 variables shows the highest accuracy (adjusted R-squared value) of 93.55%. Thus, a predicted model can be built to predict total number of deaths. <br>\n",
    "**predict_deaths(confirm, vaccination_rate, GDP, current)**: this funtion takes in four values: 'Current', 'total_vaccinations_per_hundred', 'Confirmed', 'GDP(USD)' and returns predicted deaths. Since we use normalized data to compute coefficients of the model, they are different from those in excel. To predict deaths, we need to normalize the input value first."
   ]
  },
  {
   "cell_type": "code",
   "execution_count": 7,
   "metadata": {},
   "outputs": [],
   "source": [
    "def predict_deaths(confirm, vaccination_rate, GDP, current):\n",
    "    cur = (current - df['Current'].mean(axis = 0) )/ df['Current'].std(axis = 0)\n",
    "    tot = (vaccination_rate - df['total_vaccinations_per_hundred'].mean(axis = 0))\\\n",
    "            / df['total_vaccinations_per_hundred'].std(axis = 0)\n",
    "    con = (confirm - df['Confirmed'].mean(axis = 0) )/ df['Confirmed'].std(axis = 0)\n",
    "    gdp = (GDP - df['GDP(USD)'].mean(axis = 0) )/ df['GDP(USD)'].std(axis = 0)\n",
    "    \n",
    "    features = np.array([1, cur, tot, con, gdp])\n",
    "    prediction = np.matmul(features, best_model.beta)\n",
    "    return prediction"
   ]
  },
  {
   "cell_type": "markdown",
   "metadata": {},
   "source": [
    "# Part 2"
   ]
  },
  {
   "cell_type": "markdown",
   "metadata": {},
   "source": [
    "### Overview About the Problem\n",
    "\n",
    "PCR Testing for COVID-19 proves to be a huge problem in bulk, especially for countries being less financially stable I.e. with a smaller relative GDP. This becomes even more problematic considering how the fatality rate shows a correlation with the gdp of a country like we see in Task 1. Therefore, we aim to solve this problem by trying to predict whether an individual patient is COVID positive looking at his symptoms, medical predisposition and possible contact to infected individuals. Hence, diverting the burden of testing away from the PCR method."
   ]
  },
  {
   "cell_type": "markdown",
   "metadata": {},
   "source": [
    "### Cleaning up and Preparing the dataset to run the logistic regression model on\n",
    "\n",
    "Importing the **following dataset**: https://www.kaggle.com/midouazerty/symptoms-covid-19-using-7-machine-learning-98 and using a simple for loop and mapping using a dictionary to convert the column values from the given \"Yes\" and \"No\"s to 1s and 0s. The column 'Wearing Mask' and 'Sanitization from Market' were ignored as both columns only give us the value of \"No\", which does not help us in building our model\n",
    "\n",
    "Due to the large amount of symptoms, it will be grouped into respective categories as shown below:\n",
    "\n",
    "- **ColdRelatedSystems**: representing whether an individual experiences cold related symptoms like Fever, a Sore Throat, a Running Nose, etc.\n",
    "- **OtherSymptoms**: represnts all the other symptoms an individual is experiencing like a Breathing Problem, Hyptertension, etc.\n",
    "- **MedicalPredisposition**: any medical predisposition towards being positive characterized by having diseases like diabetes, a chronic lung disease, etc.\n",
    "- **RelativeContact**: any contact the individual may have had with an infected person based on his recent social activity"
   ]
  },
  {
   "cell_type": "code",
   "execution_count": 9,
   "metadata": {},
   "outputs": [],
   "source": [
    "df=pd.read_csv(r\"Covid Dataset.csv\") # read the data file\n",
    "df.columns=df.columns.str.replace(\" \", \"\") # remove space in column name\n",
    "\n",
    "# change the column values from the \"Yes\" and \"No\" to 1s and 0s\n",
    "df_columns=list(df.columns)\n",
    "for column in df_columns:\n",
    "    mapping = {'Yes': 1, 'No': 0}\n",
    "    df[column] = df[column].map(mapping)"
   ]
  },
  {
   "cell_type": "markdown",
   "metadata": {},
   "source": [
    "### Basic functions \n",
    "This cell below contains the basic functions that will be used to build our **Logistic Regression Model**."
   ]
  },
  {
   "cell_type": "code",
   "execution_count": 10,
   "metadata": {},
   "outputs": [],
   "source": [
    "# to normalize the various features using z normalization\n",
    "def normalize_z(df):\n",
    "    dfout = df.copy()\n",
    "    dfout = (dfout - dfout.mean(axis=0)) / dfout.std(axis=0)\n",
    "    return dfout\n",
    "\n",
    "# to get the columns for features and target\n",
    "def get_features_targets(df, feature_names, target_names):\n",
    "    df_feature = df[feature_names]\n",
    "    df_target = df[target_names]\n",
    "    return df_feature, df_target\n",
    "\n",
    "# preparing the features by adding a row of constant 1s and converting them to numpy arrays\n",
    "def prepare_feature(df_feature):\n",
    "    cols = len(df_feature.columns)\n",
    "    feature = df_feature.to_numpy().reshape(-1, cols)\n",
    "    X = np.concatenate((np.ones((feature.shape[0],1)), feature), axis=1)\n",
    "    return X\n",
    "\n",
    "# preparing the target by converting them to a numpy array\n",
    "def prepare_target(df_target):\n",
    "    cols = len(df_target.columns)\n",
    "    target = df_target.to_numpy().reshape(-1, cols)\n",
    "    return target\n",
    "\n",
    "# split the Data Frame randomly\n",
    "# output comtains the train and test set for the features data frame, the train and test set for the target data frame\n",
    "def split_data(df_feature, df_target, random_state=None, test_size=0.5):\n",
    "    indexes = df_feature.index\n",
    "    if random_state != None:\n",
    "        np.random.seed(random_state)\n",
    "    k = int(test_size * len(indexes))\n",
    "    test_index = np.random.choice(indexes, k, replace=False)\n",
    "    indexes = set(indexes)\n",
    "    test_index = set(test_index)\n",
    "    train_index = indexes - test_index\n",
    "    df_feature_train = df_feature.loc[train_index, :]\n",
    "    df_feature_test = df_feature.loc[test_index, :]\n",
    "    df_target_train = df_target.loc[train_index, :]\n",
    "    df_target_test = df_target.loc[test_index, :]\n",
    "    return df_feature_train, df_feature_test, df_target_train, df_target_test\n",
    "\n",
    "# creating the confusion matrix\n",
    "def confusion_matrix(ytrue, ypred, labels):\n",
    "    output = {}\n",
    "    keys = itertools.product(labels, repeat=2)\n",
    "    \n",
    "    for k in keys:\n",
    "        output[k] = 0\n",
    "\n",
    "    for idx in range(ytrue.shape[0]):\n",
    "        output[(ytrue[idx,0], ypred[idx,0])] += 1\n",
    "    return output\n",
    "\n",
    "#main regression function\n",
    "def log_regression(beta, X):\n",
    "    return 1/(1+np.exp(np.matmul(-X, beta)))\n",
    "\n",
    "#cost function of log_regression\n",
    "def compute_cost_logreg(beta, X, y):\n",
    "    np.seterr(divide = 'ignore') # set how floating-point error will be handled\n",
    "    m = len(y)\n",
    "    J = -(1/m)*np.sum(np.where(y==1, np.log(log_regression(beta, X)), np.log(1-log_regression(beta, X))))\n",
    "    np.seterr(divide = 'warn')\n",
    "    return J\n",
    "\n",
    "#gradient descent for log_regression\n",
    "def gradient_descent_logreg(X, y, beta, alpha, num_iters):\n",
    "    m = X.shape[0]\n",
    "    J_storage = np.zeros((num_iters, 1))\n",
    "    for n in range(num_iters):\n",
    "        deriv = np.matmul(X.T, (log_regression(beta, X) - y))\n",
    "        beta = beta - (alpha * (1/m) * deriv)\n",
    "        J_storage[n] = compute_cost_logreg(beta, X, y)\n",
    "    return beta, J_storage\n",
    "\n",
    "# calculate the straight line equation after standardization and adding of column for constant 1. \n",
    "# It returns 1 if the output is bigger than 0.5. Otherwise it returns 0.\n",
    "def predict_norm(X, beta):\n",
    "    p = log_regression(beta, X)\n",
    "    return np.where(p>=0.5, 1, 0)\n",
    "\n",
    "#standardize the feature using z normalization, change it to a Numpy array, and add a column of constant 1s\n",
    "def predict(df_feature, beta):\n",
    "    X = prepare_feature(normalize_z(df_feature))\n",
    "    return predict_norm(X, beta)\n",
    "\n",
    "# function to generate all subsets of the features to find the most optimized model\n",
    "def permutation(s):\n",
    "    x = len(s)\n",
    "    masks = [1 << i for i in range(x)]\n",
    "    for i in range(1 << x):\n",
    "        yield [ss for mask, ss in zip(masks, s) if i & mask]"
   ]
  },
  {
   "cell_type": "markdown",
   "metadata": {},
   "source": [
    "### Class: LogisticRegression\n",
    "Attributes:\n",
    "* **_name** : *Name of the model, a string data type*\n",
    "* **target** : *What we need to predict, a DataFrame type*\n",
    "* **features** : *Variables used to predict the target, a DataFrame type*\n",
    "* **_features_name** : *Name of features used, a list type*\n",
    "* **_beta** : *Coefficients of the model, an np.array type* \n",
    "* **_target_test** : *the test data set for target data frame, a DataFrame type*\n",
    "\n",
    "Properties:\n",
    "* **beta.setter** : *If the input is np.array and its shape is (feature.shape[1]+1, 1), the input will be assigned to _beta attribute. This will return the _beta attribute. Otherwise, this property will not do anything.*\n",
    "* **beta** : *Calls predict property to compute beta and store it into the _beta attribute. This returns the _beta attribute.*\n",
    "* **name.setter** : *Ensure that only those of the data type str and a non empty string can be assigned to the _name attribute.*\n",
    "* **name** : *This returns the _name attribute*\n",
    "* **features_name** : *This returns the _features_name attribute. There is no setter property for _features_name attribute, so it will not be modified*\n",
    "* **target_test** : *This returns the _target_test attribute*\n",
    "* **predict** : *Compute coefficients of model using the train data set of features, store it in the _beta attribute and returning the predicted target value for the test data set of features*\n",
    "* **predict_p** : *Calculate the probability of logistic regression equation.*\n",
    "* **evaluate** : *Compute precision, specificity, accuracy and sensitivity of the model. Accuracy is used to evaluate the accuracy of the model*"
   ]
  },
  {
   "cell_type": "code",
   "execution_count": 11,
   "metadata": {},
   "outputs": [],
   "source": [
    "df=pd.read_csv(r\"Covid Dataset.csv\") # read the data file\n",
    "df.columns=df.columns.str.replace(\" \", \"\") # remove space in column name\n",
    "\n",
    "# change the column values from the \"Yes\" and \"No\" to 1s and 0s\n",
    "df_columns=list(df.columns)\n",
    "for column in df_columns:\n",
    "    mapping = {'Yes': 1, 'No': 0}\n",
    "    df[column] = df[column].map(mapping)"
   ]
  },
  {
   "cell_type": "code",
   "execution_count": 12,
   "metadata": {},
   "outputs": [],
   "source": [
    "class LogisticRegression:\n",
    "    iterations=1000\n",
    "    alpha=0.01\n",
    "    \n",
    "    def __init__(self, name, features, target):\n",
    "        self._name = name\n",
    "        self.target = target\n",
    "        self.features = features\n",
    "        self._features_name = list(features.columns)\n",
    "        self._beta = None\n",
    "        self._target_test = None\n",
    "    \n",
    "    #property getter\n",
    "    @property\n",
    "    def beta(self):\n",
    "        self.predict\n",
    "        return self._beta\n",
    "    \n",
    "    #property setter\n",
    "    @beta.setter\n",
    "    def beta(self, value):\n",
    "        if value.shape == (self.features.shape[1]+1,1):\n",
    "            self._beta = value\n",
    "    \n",
    "    #property getter\n",
    "    @property\n",
    "    def name(self):\n",
    "        return self._name\n",
    "        \n",
    "    #property setter\n",
    "    @name.setter\n",
    "    def name(self, value):\n",
    "        if isinstance(value, str) and name != '':\n",
    "            self._name = value\n",
    "        \n",
    "    #property getter\n",
    "    @property\n",
    "    def features_name(self):\n",
    "        return self._features_name\n",
    "    \n",
    "    @property\n",
    "    def target_test(self):\n",
    "        self.predict\n",
    "        return self._target_test\n",
    "    \n",
    "    @property\n",
    "    def predict(self):\n",
    "        df_features_train, df_features_test, df_target_train, df_target_test = \\\n",
    "        split_data(self.features, self.target, random_state=100, test_size=0.3)\n",
    "        df_features_train_z = normalize_z(df_features_train)\n",
    "        features = prepare_feature(df_features_train_z)\n",
    "        target = prepare_target(df_target_train)\n",
    "        beta = np.zeros((features.shape[1],1))\n",
    "        self._beta, J_storage = gradient_descent_logreg(features, target, beta, self.alpha, self.iterations)\n",
    "        prediction = predict(df_features_test, self._beta)\n",
    "        self._target_test = df_target_test\n",
    "        return prediction\n",
    "    \n",
    "    @property\n",
    "    def predict_p(self):\n",
    "        self.predict\n",
    "        df_features_train, df_features_test, df_target_train, df_target_test = split_data(self.features, self.target, random_state=100, test_size=0.3)\n",
    "        X = prepare_feature(normalize_z(df_features_test))\n",
    "        p = log_regression(self.beta, X)\n",
    "        return p \n",
    "    \n",
    "    @property\n",
    "    def evaluate(self):\n",
    "        pred = self.predict\n",
    "        cm = confusion_matrix(self.target_test.values, pred, [1,0])\n",
    "        pospos = cm[(1,1)]\n",
    "        posneg = cm[(1,0)]\n",
    "        negpos = cm[(0,1)]\n",
    "        negneg = cm[(0,0)]\n",
    "\n",
    "        accuracy = (pospos + negneg) / np.sum(list(cm.values()))\n",
    "        sensitivity = pospos / (pospos + posneg)\n",
    "        specificity = negneg / (negpos + negneg)\n",
    "        precision = pospos / (pospos + negpos)\n",
    "\n",
    "        result = {'accuracy': accuracy, 'sensitivity': sensitivity,\n",
    "                  'specificity': specificity, 'precision': precision}\n",
    "        return result\n",
    "\n",
    "    #when printing this class, it returns name attribute\n",
    "    def __str__(self):\n",
    "        return self._name"
   ]
  },
  {
   "cell_type": "markdown",
   "metadata": {},
   "source": [
    "### Building Model\n",
    "\n",
    "1. Merge the several columns present in our extensive dataset into new columns based on different prediction categories to get relevant and meaningful beta values for the model and hence prediction. All categories are in **categories** variable. It is a dictionary whose keys are the names of categories and values are abbreviations of categories.\n",
    "2. Get different combinations of all categories using the **permutation(s)** function.\n",
    "3. For each combination of features, extract features and target from the data set. Create an instance of **LogisticRegression class** and add it in a list.\n",
    "4. Sort the list based on accuracy (computed using (true positive+true negative)/total cases) of each model. The model with the highest accuracy is the best model among all."
   ]
  },
  {
   "cell_type": "code",
   "execution_count": 13,
   "metadata": {},
   "outputs": [
    {
     "name": "stdout",
     "output_type": "stream",
     "text": [
      "ColdRelatedSymptoms 3.3531468531468533 1.1413380431628153\n",
      "OtherSymptoms 2.6074714758925284 1.1230018685536955\n",
      "MedicalPredispositon 1.4125874125874125 0.8570770574780427\n",
      "RelativeContact 2.3498343761501657 1.2990223320370353\n"
     ]
    }
   ],
   "source": [
    "target_name = [\"COVID-19\"] \n",
    "\n",
    "# categorize all columns and create new columns for categories to be used as features for our model\n",
    "categories = {\"ColdRelatedSymptoms\":\"CRSym\", \"OtherSymptoms\":\"OSym\", \"MedicalPredispositon\":\"MPre\", \"RelativeContact\":\"RCon\"}\n",
    "df[\"ColdRelatedSymptoms\"]=df[\"Fever\"]+df[\"DryCough\"]+df[\"Sorethroat\"]+df[\"RunningNose\"]+df[\"Headache\"]\n",
    "df[\"OtherSymptoms\"]=df[\"BreathingProblem\"]+df[\"Asthma\"]+df[\"HyperTension\"]+df[\"Fatigue\"]+df[\"Gastrointestinal\"]\n",
    "df[\"MedicalPredispositon\"]=df[\"ChronicLungDisease\"]+df[\"HeartDisease\"]+df[\"Diabetes\"]\n",
    "df[\"RelativeContact\"]=df[\"Abroadtravel\"]+df[\"ContactwithCOVIDPatient\"]+df[\"AttendedLargeGathering\"]+\\\n",
    "    df[\"VisitedPublicExposedPlaces\"]+df[\"FamilyworkinginPublicExposedPlaces\"]\n",
    "\n",
    "# get different combinations of all features\n",
    "categories_combinations = list(permutation(list(categories.keys())))[1:]\n",
    "\n",
    "model_combinations = []\n",
    "for i in categories_combinations: # use for loop to go through all combinations\n",
    "    df_features, df_target = get_features_targets(df, i, target_name) # extract features and target\n",
    "    name_lst = [categories[j] for j in i]\n",
    "    name = 'md_'+','.join(name_lst) # name the model with the abbreviation of each features used\n",
    "    model = LogisticRegression(name, df_features, df_target) # create an instance of LogisticRegression class\n",
    "    model_combinations.append(model)  # add the instance in a list\n",
    "\n",
    "# sort the list based on accuracy of each element\n",
    "model_combinations = sorted(model_combinations, key = lambda x: x.evaluate['accuracy']) \n",
    "# this model has the hightest accuracy, which means it is the best model\n",
    "best_model = model_combinations[-1] \n",
    "for i in list(categories.keys()):\n",
    "    print(i, df[i].mean(axis=0),df[i].std(axis=0))"
   ]
  },
  {
   "cell_type": "markdown",
   "metadata": {},
   "source": [
    "### Evaluating the Model\n",
    "\n",
    "As seen from the values obtained, the model with all 4 features show the accuracy value, which indicates the highest correlation value and is thus the best model to predict if one is Covid-positive or not.\n",
    "\n",
    "We then go on to plot the results from all different iterations of the testing to finally settle on the one giving us the highest accuracy."
   ]
  },
  {
   "cell_type": "code",
   "execution_count": 14,
   "metadata": {},
   "outputs": [
    {
     "data": {
      "text/plain": [
       "Text(0.5, 1.0, 'md_CRSym,OSym,MPre,RCon')"
      ]
     },
     "execution_count": 14,
     "metadata": {},
     "output_type": "execute_result"
    },
    {
     "data": {
      "image/png": "[encoded data removed]",
      "text/plain": [
       "<Figure size 432x288 with 16 Axes>"
      ]
     },
     "metadata": {
      "needs_background": "light"
     },
     "output_type": "display_data"
    }
   ],
   "source": [
    "a = math.ceil(math.sqrt(len(model_combinations)+1)) # get the size of the plot\n",
    "b = 1\n",
    "\n",
    "for i in model_combinations:\n",
    "    plt.subplot(a,a,b)\n",
    "    # create a subplot with a*a size. b is the index\n",
    "    plt.scatter(i.predict_p, i.target_test,s=15)\n",
    "    plt.scatter(i.predict_p, i.predict,s=15) # plot predicted deaths against real deaths\n",
    "    #plt.xticks([]) # remove x axis\n",
    "    #plt.yticks([]) # remove y axis\n",
    "    plt.xlabel('predict_p') # add x axis label\n",
    "    plt.ylabel('result') # add y axis label\n",
    "    plt.title(i.name) # name each plot as the model's name\n",
    "    plt.suptitle('predicted probability vs real results, predicted probability vs predicted results for different models'\\\n",
    "                 ,y=-0.17) # add a title for all plots\n",
    "    plt.subplots_adjust(left=0.2, top=2, right=2, bottom=0, wspace=0.6, hspace=0.7) # adjust the plots\n",
    "    b+=1\n",
    "    \n",
    "plt.subplot(a,a,b)\n",
    "plt.scatter(i.predict_p, i.target_test,s=15)\n",
    "plt.xlabel('predict_p') # add x axis label\n",
    "plt.ylabel('real result') # add y axis label\n",
    "plt.title(i.name) # name each plot as the model's name"
   ]
  },
  {
   "cell_type": "markdown",
   "metadata": {},
   "source": [
    "***\n",
    "\n",
    "As seen from the graphs obatined above, the model with all 4 variables have the highest accuracy when it comes to predicting whether an individual will be diagnosed Covid positive.\n",
    "\n",
    "***"
   ]
  },
  {
   "cell_type": "markdown",
   "metadata": {},
   "source": [
    "### Prediction Model\n",
    "A function named **predict_result(crysm, osym, mprd, rc)** will then be created from the best model to form the prediction model.\n",
    "\n",
    "This funtion takes in five categories of symptoms - Cold Related Symptoms, Other Symptoms, Medical Predispositon, Relative Contact and Attended Large Gathering. The symptoms of each category is as listed:\n",
    "* Cold Related Symptoms: Headache, Sorethroat, DryCough, Fever, RunningNose\n",
    "* Other Symptoms: Breathing Problem, Asthma, Hyper Tension, Fatigue, Gastrointestinal\n",
    "* Medical Predispositon: Chronic Lung Disease, Heart Disease, Diabetes\n",
    "* Relative Contact: Abroad travel, Contact with COVID Patient, Attended Large Gathering, Visited Public Exposed Places, Family working in Public Exposed Places\n",
    "\n",
    "The input value for each category is determined by the number of symptoms shown within the categories.\n",
    "\n",
    "If the predicted value is 1, it means you may be positive. If it is 0, it means you may be negative."
   ]
  },
  {
   "cell_type": "code",
   "execution_count": 12,
   "metadata": {},
   "outputs": [],
   "source": [
    "def predict_result(crsym, osym, mprd, rc):\n",
    "    crsym = (crsym - df['ColdRelatedSymptoms'].mean(axis = 0) )/ df['ColdRelateSymptoms'].std(axis = 0)\n",
    "    osym = (osym - df['OtherSymptoms'].mean(axis = 0))\\\n",
    "            / df['OtherSymptoms'].std(axis = 0)\n",
    "    mprd = (mprd - df['MedicalPredisposition'].mean(axis = 0) )/ df['MedicalPredisposition'].std(axis = 0)\n",
    "    rc = (rc - df['RelativeContacts'].mean(axis = 0) )/ df[\"RelativeContacts\"].std(axis = 0)\n",
    "    \n",
    "    features = np.array([1, crysm, osym, mprd, rc])\n",
    "    prediction = np.matmul(features, best_model.beta)\n",
    "    return prediction"
   ]
  },
  {
   "cell_type": "markdown",
   "metadata": {},
   "source": [
    "## Improving the Model\n",
    "\n",
    "We strongly believe any model, no matter how accurate, can ever be perfect or be able to use the model in a real world setting especially with the target being something as sensitive as the COVID result of a patient.\n",
    "\n",
    "For our problem statement, we highly believe we'll be able to benefit with a more profound and detailed dataset that goes into details about symptoms like fever, cough, etc. on a surface level (i.e. a Yes or No) but rather maybe uses a more developed system of capturing metrics from a scale of 1-10, etc. We are also able to include other more quantitative symptoms/states such as the blood lymphocyte levels, etc. which have been proven to be a good indicator of the disease by several studies much like this one [here](https://bmcmedinformdecismak.biomedcentral.com/articles/10.1186/s12911-020-01266-z).\n",
    "\n",
    "Another more general approach specific to our model and dataset here can be to brainstorm different related features that may be even more accurate in predicting COVID-19 test. We however have not chosen to do that considering:\n",
    "1. we were able to achieve a 92% accuracy by defining and using features like \"ColdRelatedSymptoms\", \"MedicalPredispositon\", etc. for our model.\n",
    "2. Furthermore, our accuracy of the model is already higher than the accuracy of a PCR test which has an accuracy of 85%.\n",
    "\n",
    "However, after exploring with the categorization of each category, it became noticable that by grouping many of the symptoms into one category, we are undermining and ignoring the difference in significance level of each symptom and simply giving all the symptoms in the same category the same weight value. Thus, further exploration is done by expanding out the different categories and create a model using all symptoms except 'Wearing Masks' and 'Sanitization from Market (reason is mentioned above)."
   ]
  },
  {
   "cell_type": "code",
   "execution_count": 17,
   "metadata": {},
   "outputs": [
    {
     "name": "stdout",
     "output_type": "stream",
     "text": [
      "0.9460122699386503\n"
     ]
    }
   ],
   "source": [
    "df = pd.read_csv('Covid Dataset.csv')\n",
    "df = df.drop(columns=['Wearing Masks', 'Sanitization from Market'])\n",
    "columns = ['Breathing Problem', 'Fever', 'Dry Cough', 'Sore throat', 'Running Nose',\n",
    "       'Asthma', 'Chronic Lung Disease', 'Headache', 'Heart Disease',\n",
    "       'Diabetes', 'Hyper Tension', 'Fatigue ', 'Gastrointestinal ',\n",
    "       'Abroad travel', 'Contact with COVID Patient',\n",
    "       'Attended Large Gathering', 'Visited Public Exposed Places',\n",
    "       'Family working in Public Exposed Places']\n",
    "\n",
    "# replace the target values using from string to integer 0 and 1\n",
    "for column in df:\n",
    "    mapping = {'Yes': 1, 'No': 0}\n",
    "    df[column] = df[column].map(mapping)\n",
    "\n",
    "# extract the features and the target columns\n",
    "df_features, df_target = get_features_targets(df, columns, ['COVID-19'])\n",
    "\n",
    "name = 'Improvement'\n",
    "improve_model = LogisticRegression(name, df_features, df_target)\n",
    "print(improve_model.evaluate['accuracy'])"
   ]
  },
  {
   "cell_type": "markdown",
   "metadata": {},
   "source": [
    "As seen from the accuracy value obtained, expanding out all categories seems to bring about a more accurate model. "
   ]
  },
  {
   "cell_type": "code",
   "execution_count": 19,
   "metadata": {},
   "outputs": [],
   "source": [
    "symptoms_combinations_17 = []\n",
    "for i in columns:\n",
    "    tem = columns.copy()\n",
    "    tem.remove(i)\n",
    "    symptoms_combinations_17.append(tem)\n",
    "\n",
    "symptoms_combinations = symptoms_combinations_17.copy()\n",
    "for i in symptoms_combinations_17:\n",
    "    for j in i:\n",
    "        tem = i.copy()\n",
    "        tem.remove(j)\n",
    "        symptoms_combinations.append(tem)\n",
    "symptoms_combinations.append(columns)\n",
    "\n",
    "model_combinations = []\n",
    "for i in symptoms_combinations: # use for loop to go through all combinations\n",
    "    df_features, df_target = get_features_targets(df, i, target_name) # extract features and target\n",
    "    name_lst = [j[:2] for j in i]\n",
    "    name = 'md_'+','.join(name_lst) # name the model with first 2 letters of each features used\n",
    "    model = LogisticRegression(name, df_features, df_target) # create an instance of LogisticRegression class\n",
    "    model_combinations.append(model)  # add the instance in a list\n",
    "    \n",
    "model_combinations = sorted(model_combinations, key = lambda x: x.evaluate['accuracy']) \n",
    "# this model has the hightest accuracy, which means it is the best model\n",
    "best_model_improved = model_combinations[-1] "
   ]
  },
  {
   "cell_type": "markdown",
   "metadata": {},
   "source": [
    "From the codes above, we can get the better model with higher accuracy, 0.96135. The features of the better model are BreathingProblem, Fever, DryCough, RunningNose, Asthma, ChronicLungDisease, Headache, HeartDisease, Diabetes, HyperTension, Fatigue, Gastrointestinal, Abroadtravel, ContactwithCOVIDPatient, AttendedLargeGathering, VisitedPublicExposedPlaces, FamilyworkinginPublicExposedPlaces."
   ]
  },
  {
   "cell_type": "markdown",
   "metadata": {},
   "source": [
    "### Prediction Model of the Improved Model\n",
    "A function named **predict_result(BreathingProblem, Fever, DryCough, RunningNose, Asthma, ChronicLungDisease, Headache, HeartDisease, Diabetes, HyperTension, Fatigue, Gastrointestinal, Abroadtravel, ContactwithCOVIDPatient, AttendedLargeGathering, VisitedPublicExposedPlaces, FamilyworkinginPublicExposedPlaces)** will then be created from the best model after improvement to form the prediction model.\n",
    "\n",
    "This funtion takes in 17 symptoms - BreathingProblem, Fever, DryCough, RunningNose, Asthma, ChronicLungDisease, Headache, HeartDisease, Diabetes, HyperTension, Fatigue, Gastrointestinal, Abroadtravel, ContactwithCOVIDPatient, AttendedLargeGathering, VisitedPublicExposedPlaces, FamilyworkinginPublicExposedPlaces\n",
    "\n",
    "The input value for each argument is determined by whether you have the symptom or not. If you have, the input value is 1. Otherwise, it is 0.\n",
    "\n",
    "If the predicted value is 1, it means you may be positive. If it is 0, it means you may be negative."
   ]
  },
  {
   "cell_type": "code",
   "execution_count": 21,
   "metadata": {},
   "outputs": [],
   "source": [
    "def predict_deaths(BreathingProblem, Fever, DryCough, RunningNose, Asthma, ChronicLungDisease, Headache, HeartDisease\\\n",
    "                   , Diabetes, HyperTension, Fatigue, Gastrointestinal, Abroadtravel, ContactwithCOVIDPatient\\\n",
    "                   , AttendedLargeGathering, VisitedPublicExposedPlaces, FamilyworkinginPublicExposedPlaces):\n",
    "    \n",
    "    BreathingProblem = (BreathingProblem - df['BreathingProblem'].mean(axis = 0) )/ df['BreathingProblem'].std(axis = 0)\n",
    "    Fever = (Fever - df['Fever'].mean(axis = 0) )/ df['Fever'].std(axis = 0)\n",
    "    DryCough = (DryCough - df['DryCough'].mean(axis = 0) )/ df['DryCough'].std(axis = 0)\n",
    "    RunningNose = (RunningNose - df['RunningNose'].mean(axis = 0) )/ df['RunningNose'].std(axis = 0)\n",
    "    Asthma = (Asthma - df['Asthma'].mean(axis = 0) )/ df['Asthma'].std(axis = 0)\n",
    "    ChronicLungDisease = (ChronicLungDisease - df['ChronicLungDisease'].mean(axis = 0) )/ \\\n",
    "                            df['ChronicLungDisease'].std(axis = 0)\n",
    "    Headache = (Headache - df['Headache'].mean(axis = 0) )/ df['Headache'].std(axis = 0)\n",
    "    HeartDisease = (HeartDisease - df['HeartDisease'].mean(axis = 0) )/ df['HeartDisease'].std(axis = 0)\n",
    "    Diabetes = (Diabetes - df['Diabetes'].mean(axis = 0) )/ df['Diabetes'].std(axis = 0)\n",
    "    HyperTension = (HyperTension - df['HyperTension'].mean(axis = 0) )/ df['HyperTension'].std(axis = 0)\n",
    "    Fatigue = (Fatigue - df['Fatigue'].mean(axis = 0) )/ df['Fatigue'].std(axis = 0)\n",
    "    Gastrointestinal = (Gastrointestinal - df['Gastrointestinal'].mean(axis = 0) )/ df['Gastrointestinal'].std(axis = 0)\n",
    "    Abroadtravel = (Abroadtravel - df['Abroadtravel'].mean(axis = 0) )/ df['Abroadtravel'].std(axis = 0)\n",
    "    ContactwithCOVIDPatient = (ContactwithCOVIDPatient - df['ContactwithCOVIDPatient'].mean(axis = 0) )/ \\\n",
    "                                df['ContactwithCOVIDPatient'].std(axis = 0)\n",
    "    AttendedLargeGathering = (AttendedLargeGathering - df['AttendedLargeGathering'].mean(axis = 0) )/ \\\n",
    "                                df['AttendedLargeGathering'].std(axis = 0)\n",
    "    VisitedPublicExposedPlaces = (VisitedPublicExposedPlaces - df['VisitedPublicExposedPlaces'].mean(axis = 0) )/ \\\n",
    "                                    df['VisitedPublicExposedPlaces'].std(axis = 0)\n",
    "    FamilyworkinginPublicExposedPlaces = (FamilyworkinginPublicExposedPlaces - \\\n",
    "                        df['FamilyworkinginPublicExposedPlaces'].mean(axis = 0) )/ df['Abroadtravel'].std(axis = 0)\n",
    "    \n",
    "    features = np.array([1, BreathingProblem, Fever, DryCough, RunningNose, Asthma, ChronicLungDisease, Headache, \\\n",
    "                         HeartDisease, Diabetes, HyperTension, Fatigue, Gastrointestinal, Abroadtravel, \\\n",
    "                         ContactwithCOVIDPatient, AttendedLargeGathering, VisitedPublicExposedPlaces, \\\n",
    "                         FamilyworkinginPublicExposedPlaces])\n",
    "    prediction = np.matmul(features, best_model_improved.beta)\n",
    "    return prediction"
   ]
  },
  {
   "cell_type": "markdown",
   "metadata": {},
   "source": [
    "## Discussion and Analysis\n",
    "\n",
    "In conclusion, our chosen model based on Multiple Logistic Regression proved to be really useful and apt in predicting the Covid positive result for individuals without the use of expensive testing apparatus which is also known to be in a shortage.\n",
    "\n",
    "For assessing the success of our model in predicting the results, we chose to use the metric of Accuracy calculated using a Confusion Matrix. The Accuracy which represents the **total number of correct predictions/total number of samples** as this probes to be a metric which takes into account both the positive and the negative correct results to throw out a number that's essentially all-inclusive."
   ]
  }
 ],
 "metadata": {
  "kernelspec": {
   "display_name": "Python 3",
   "language": "python",
   "name": "python3"
  },
  "language_info": {
   "codemirror_mode": {
    "name": "ipython",
    "version": 3
   },
   "file_extension": ".py",
   "mimetype": "text/x-python",
   "name": "python",
   "nbconvert_exporter": "python",
   "pygments_lexer": "ipython3",
   "version": "3.8.5"
  }
 },
 "nbformat": 4,
 "nbformat_minor": 4
}
